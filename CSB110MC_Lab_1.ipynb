{
 "cells": [
  {
   "cell_type": "markdown",
   "id": "37bb57fc-1e27-498b-83f3-fea6f38b405d",
   "metadata": {},
   "source": [
    "# CSB110MC – Python Programming\n",
    "\n",
    "The lab classes consist of tasks that are designed to be completed during the lab class. If you do not complete the tasks during the lab class then you should do them at home and have them ready to be checked in the next lab class. Each task should be stored in its own .py file.\n",
    "Do not use the interpreted mode for doing the tasks (only use the interpreted mode for experi-\n",
    "mentation). If you store your python code as .py files then you can go back and look at them\n",
    "at a later date.\n",
    "CSB110MC Lab Class 1 Thursday 01/02/2024\n",
    "Ü Task 1.1\n",
    "Attempt to execute the following python program. It contains various errors. Your goal is to\n",
    "understand the errors and the error messages. Fix the errors and get the program to execute.\n",
    "It is natural to encounter many of these errors as you program, so it is useful to be able to spot\n",
    "and fix them quickly.\n",
    "print < The answer to the ultimate question is \" 43 >\n",
    "Ü Task 1.2\n",
    "Start a new python file. Store your age in a variable named age.\n",
    "Get python to print the following:\n",
    "I am <age> years old. In 2 years I will be <age + 2>.\n",
    "where the angular brackets represent the variables.\n",
    "Ü Task 1.3\n",
    "Write a program which prompts the user to enter their first and last names (as two separate\n",
    "inputs). The program should then print the initial of their first name followed by a dot and\n",
    "their last name, e.g.,\n",
    "L.Powell\n",
    "1\n",
    "Ü Task 1.4\n",
    "Imagine your are writing a piece of software for a shop. You need to calculate prices of items\n",
    "with VAT added. Assume VAT is charged at 20%.\n",
    "Write a program that:\n",
    "• allows the user to input the price in pounds of an item without VAT (as a floating point\n",
    "number), then\n",
    "• displays the amount of VAT that should be added to the item, then\n",
    "• displays the price of the item with VAT added.\n",
    "An example run of the program might be:\n",
    "Please enter the price of the item without VAT: 36.94\n",
    "VAT: 7.388\n",
    "Item price inc VAT: 44.33\n",
    "where the number on the first line is input by the user.\n",
    "Your program should round the final item price to 2 decimal places.\n",
    "It is common to write you programs in three parts: input, processing and output.\n",
    "Input This is where you should get the users input. For this task you should prompt the user\n",
    "for the price of the item and store the result in a variable.\n",
    "Processing This is where you should perform all the calculations. For this task, you will need\n",
    "to calculate the VAT amount and the new price (which includes the VAT). Store both\n",
    "values in new variables.\n",
    "Output This is where you print the output of the program. For this task you should print the\n",
    "VAT amount on one line, followed by the new calculated price (which includes VAT).\n",
    "It’s best to group all the processing together and all the output together (as opposed to mixing\n",
    "processing and output statements).\n",
    "You should avoid using magic numbers in your program, so the VAT rate should be a constant\n",
    "at the top of the program.\n",
    "2\n",
    "Ü Task 1.5\n",
    "Write a program that calculates the length of the hypotenuse of a right-angled triangle:\n",
    "a\n",
    "b\n",
    "h\n",
    "where a, b and h are the length of the respective sides.\n",
    "h can be calculated as follows:\n",
    "h “ aa2 ` b2\n",
    "An example run of the program might be:\n",
    "Enter the length of side a: 4.3\n",
    "Enter the length of side b: 2.3\n",
    "The length of the hypotenuse is 4.88\n",
    "To do this you can import the sqrt function from the math library. Split your code into three\n",
    "sections again:\n",
    "Input Ask the user to input the lengths of the sides.\n",
    "Processing Calculate the length of the hypotenuse.\n",
    "Output Print the length of the hypotenuse.\n",
    "Ü Task 1.6\n",
    "Write a program that reads a number between 10,000 and 99,999 from the user, where the user\n",
    "enters a comma in the input. Then print the number without a comma.\n",
    "An example run of the program might be:\n",
    "Enter an integer between 10,000 and 99,999: 45,711\n",
    "45711\n",
    "3\n",
    "Ü Task 1.7\n",
    "In the game of Nim, we start with some number of piles of tokens, and two players alternate in\n",
    "removing one or more tokens from any one pile. The player that takes the last token wins the\n",
    "game.\n",
    "Write a program that prompts the user to input an integer. This will represent the number of\n",
    "tokens in a pile. The program should print a representation of this pile to the screen. You can\n",
    "do this using string replication.\n",
    "The program should then randomly choose a number of tokens to remove from the pile before\n",
    "printing the new pile to the screen.\n",
    "An example run of the program might be:\n",
    "How many tokens would you like in the pile? 6\n",
    "token pile: ******\n",
    "I remove 4 tokens from the pile!\n",
    "token pile: **"
   ]
  },
  {
   "cell_type": "markdown",
   "id": "8898d8b6-6528-42a0-a2c6-1c2d137d868a",
   "metadata": {},
   "source": [
    "## Task 1.1\n",
    "\n",
    "Attempt to execute the following python program. It contains various errors. Your goal is to\n",
    "understand the errors and the error messages. Fix the errors and get the program to execute.\n",
    "It is natural to encounter many of these errors as you program, so it is useful to be able to spot\n",
    "and fix them quickly.\n",
    "\n",
    "print < The answer to the ultimate question is \" 43 >"
   ]
  },
  {
   "cell_type": "code",
   "execution_count": 1,
   "id": "0dcdcaf6-a135-4a8e-9fc7-fca2ed3844d4",
   "metadata": {
    "tags": []
   },
   "outputs": [
    {
     "name": "stdout",
     "output_type": "stream",
     "text": [
      "The answer to the ultimate question is: 43\n"
     ]
    }
   ],
   "source": [
    "print(\"The answer to the ultimate question is: %d\" % 43)"
   ]
  },
  {
   "cell_type": "markdown",
   "id": "a9dfcd93-60d8-446e-806e-a1d178f17a88",
   "metadata": {},
   "source": [
    "## Task 1.2\n",
    "\n",
    "Start a new python file. Store your age in a variable named age.\n",
    "Get python to print the following:\n",
    "I am <age> years old. In 2 years I will be <age + 2>.\n",
    "where the angular brackets represent the variables."
   ]
  },
  {
   "cell_type": "code",
   "execution_count": 2,
   "id": "36f406a6-d6d3-423d-9e94-3a29c7241556",
   "metadata": {
    "tags": []
   },
   "outputs": [
    {
     "name": "stdin",
     "output_type": "stream",
     "text": [
      "Enter your age: \n",
      " 25\n"
     ]
    },
    {
     "name": "stdout",
     "output_type": "stream",
     "text": [
      "I am 25 years old. In 2 years I will be 27.\n"
     ]
    }
   ],
   "source": [
    "try:\n",
    "    age = int(input(\"Enter your age: \\n\"))\n",
    "    \n",
    "    twoYears = age + 2\n",
    "    \n",
    "    print(\"I am {} years old. In 2 years I will be {}.\".format(age, twoYears))\n",
    "    \n",
    "except ValueError:\n",
    "    \n",
    "    print(\"Error: This is not a valid input\")"
   ]
  },
  {
   "cell_type": "markdown",
   "id": "f6023742-262c-4d73-84f0-7101f4c24ea0",
   "metadata": {},
   "source": [
    "## Task 1.3\n",
    "\n",
    "Write a program which prompts the user to enter their first and last names (as two separate\n",
    "inputs). The program should then print the initial of their first name followed by a dot and\n",
    "their last name, e.g.,\n",
    "L.Powell\n",
    "\n"
   ]
  },
  {
   "cell_type": "code",
   "execution_count": 3,
   "id": "8c98888e-e2b6-46f2-b066-1cb9f56b712f",
   "metadata": {
    "tags": []
   },
   "outputs": [
    {
     "name": "stdin",
     "output_type": "stream",
     "text": [
      "Enter your first name: \n",
      " Vitalis\n",
      "\n",
      " Enter your last name: \n",
      " Ezeizu\n"
     ]
    },
    {
     "name": "stdout",
     "output_type": "stream",
     "text": [
      "Thank you V.Ezeizu\n"
     ]
    }
   ],
   "source": [
    "firstName = input(\"Enter your first name: \\n\")\n",
    "lastName = input(\"\\n Enter your last name: \\n\")\n",
    "firstNameEdit = firstName [ :1]\n",
    "print (\"Thank you {}.{}\". format(firstNameEdit, lastName))"
   ]
  },
  {
   "cell_type": "markdown",
   "id": "5f481cd0-a154-4ba9-9afe-caa9c9e9fac8",
   "metadata": {},
   "source": [
    "## Task 1.4\n",
    "\n",
    "Imagine your are writing a piece of software for a shop. You need to calculate prices of items\n",
    "with VAT added. Assume VAT is charged at 20%.\n",
    "Write a program that:\n",
    "• allows the user to input the price in pounds of an item without VAT (as a floating point\n",
    "number), then\n",
    "• displays the amount of VAT that should be added to the item, then\n",
    "• displays the price of the item with VAT added.\n",
    "An example run of the program might be:\n",
    "Please enter the price of the item without VAT: 36.94\n",
    "VAT: 7.388\n",
    "Item price inc VAT: 44.33\n",
    "where the number on the first line is input by the user.\n",
    "Your program should round the final item price to 2 decimal places.\n",
    "It is common to write you programs in three parts: input, processing and output.\n",
    "Input This is where you should get the users input. For this task you should prompt the user\n",
    "for the price of the item and store the result in a variable.\n",
    "Processing This is where you should perform all the calculations. For this task, you will need\n",
    "to calculate the VAT amount and the new price (which includes the VAT). Store both\n",
    "values in new variables.\n",
    "Output This is where you print the output of the program. For this task you should print the\n",
    "VAT amount on one line, followed by the new calculated price (which includes VAT).\n",
    "It’s best to group all the processing together and all the output together (as opposed to mixing\n",
    "processing and output statements).\n",
    "You should avoid using magic numbers in your program, so the VAT rate should be a constant\n",
    "at the top of the program.\n",
    "2\n"
   ]
  },
  {
   "cell_type": "code",
   "execution_count": 1,
   "id": "b8a01228-01a3-4c10-811f-99afad8fb8dc",
   "metadata": {
    "tags": []
   },
   "outputs": [
    {
     "name": "stdin",
     "output_type": "stream",
     "text": [
      "Please enter the price of the item without VAT: \n",
      " 800\n"
     ]
    },
    {
     "name": "stdout",
     "output_type": "stream",
     "text": [
      " VAT: £ 160.00 \n",
      " Item price inc VAT: £ 960.00\n"
     ]
    }
   ],
   "source": [
    "    try:\n",
    "        \n",
    "        priceInPounds = float(input(\"Please enter the price of the item without VAT: \\n\"))\n",
    "\n",
    "        vat = float(0.2 * priceInPounds)\n",
    "\n",
    "        itemPriceIncVat = vat + priceInPounds\n",
    "    \n",
    "    \n",
    "    \n",
    "    except ValueError:\n",
    "        \n",
    "        print(\"Error: Not a valid entry\")\n",
    "\n",
    "    print (\" VAT: £%7.2F\" % vat, \"\\n Item price inc VAT: £%7.2f\" %itemPriceIncVat)   "
   ]
  },
  {
   "cell_type": "markdown",
   "id": "07af33e9-c461-4624-82fc-93b54fa24417",
   "metadata": {},
   "source": [
    "## Task 1.5\n",
    "\n",
    "Write a program that calculates the length of the hypotenuse of a right-angled triangle:\n",
    "a\n",
    "b\n",
    "h\n",
    "where a, b and h are the length of the respective sides.\n",
    "h can be calculated as follows:\n",
    "h “ aa2 ` b2\n",
    "An example run of the program might be:\n",
    "Enter the length of side a: 4.3\n",
    "Enter the length of side b: 2.3\n",
    "The length of the hypotenuse is 4.88\n",
    "To do this you can import the sqrt function from the math library. Split your code into three\n",
    "sections again:\n",
    "Input Ask the user to input the lengths of the sides.\n",
    "Processing Calculate the length of the hypotenuse.\n",
    "Output Print the length of the hypotenuse."
   ]
  },
  {
   "cell_type": "markdown",
   "id": "1cd177b0-7e86-46c2-9f61-e550720e46de",
   "metadata": {
    "tags": []
   },
   "source": [
    "from math import sqrt\n",
    "    \n",
    "try:\n",
    "    length = float(input(\"Please enter the length of a right-angled triangle: \\n\"))\n",
    "        \n",
    "    height = float(input(\"\\n Please enter the height of a right-angled triangle: \\n\"))\n",
    "        \n",
    "    hypotenuse = sqrt((length**2) + (height **2))\n",
    "    \n",
    "      \n",
    "    \n",
    "except ValueError:\n",
    "        \n",
    "        print(\"Error: The value entered isn't correct. Please try again\")\n",
    "        \n",
    "print(\"The length of the hypotenuse is: %10.2f\" % hypotenuse)    \n",
    "        \n",
    "        "
   ]
  },
  {
   "cell_type": "markdown",
   "id": "927d98ec-4caa-412d-9659-190c88edd976",
   "metadata": {},
   "source": [
    "## Task 1.6\n",
    "\n",
    "Write a program that reads a number between 10,000 and 99,999 from the user, where the user\n",
    "enters a comma in the input. Then print the number without a comma.\n",
    "An example run of the program might be:\n",
    "Enter an integer between 10,000 and 99,999: 45,711\n",
    "45711\n",
    "3\n"
   ]
  },
  {
   "cell_type": "code",
   "execution_count": 17,
   "id": "4e3bef8d-5c3b-4e3b-af5d-a820adcc9c6b",
   "metadata": {
    "tags": []
   },
   "outputs": [
    {
     "name": "stdin",
     "output_type": "stream",
     "text": [
      "Enter an integer between 10,000 and 99,999: \n",
      " 2322\n"
     ]
    },
    {
     "name": "stdout",
     "output_type": "stream",
     "text": [
      "The selected number isn't within range. Please select a number within range.\n",
      "\n",
      " Attempted input \n",
      "\n"
     ]
    }
   ],
   "source": [
    "try:\n",
    "    numberFromUser = input(\"Enter an integer between 10,000 and 99,999: \\n\")\n",
    "    \n",
    "    cleanVersion = numberFromUser.replace(\",\",\"\")\n",
    "    \n",
    "    \n",
    "    if int(cleanVersion) >= 10000 and int(cleanVersion) <= 99999:\n",
    "        \n",
    "        print(\"The number entered by user is: {}\".format(cleanVersion))\n",
    "        \n",
    "    else:\n",
    "        \n",
    "        print(\"The selected number isn't within range. Please select a number within range.\")\n",
    "        \n",
    "except ValueError:\n",
    "    \n",
    "    print(\"Error: Not a valid input\")\n",
    "    \n",
    "finally:\n",
    "    \n",
    "    print(\"\\n Attempted input \\n\")\n",
    "\n",
    "    \n",
    "    "
   ]
  },
  {
   "cell_type": "markdown",
   "id": "9415612d-e376-45d0-8589-f6239078a68e",
   "metadata": {},
   "source": [
    "## Task 1.7\n",
    "\n",
    "In the game of Nim, we start with some number of piles of tokens, and two players alternate in\n",
    "removing one or more tokens from any one pile. The player that takes the last token wins the\n",
    "game.\n",
    "Write a program that prompts the user to input an integer. This will represent the number of\n",
    "tokens in a pile. The program should print a representation of this pile to the screen. You can\n",
    "do this using string replication.\n",
    "The program should then randomly choose a number of tokens to remove from the pile before\n",
    "printing the new pile to the screen.\n",
    "An example run of the program might be:\n",
    "How many tokens would you like in the pile? 6\n",
    "token pile: ******\n",
    "I remove 4 tokens from the pile!\n",
    "token pile: **\n"
   ]
  },
  {
   "cell_type": "code",
   "execution_count": 27,
   "id": "af935a5c-8493-416c-87c5-343d561ef6b2",
   "metadata": {
    "tags": []
   },
   "outputs": [
    {
     "name": "stdin",
     "output_type": "stream",
     "text": [
      "How many tokens would you like in the pile? \n",
      " 6\n"
     ]
    },
    {
     "name": "stdout",
     "output_type": "stream",
     "text": [
      "The token pile chosen is ******, \n",
      " I remove 2 tokens from the pile!. \n",
      " The remaining token is: 4\n"
     ]
    }
   ],
   "source": [
    "from random import randint\n",
    "\n",
    "try:\n",
    "    \n",
    "    tokenPile = int(input(\"How many tokens would you like in the pile? \\n\"))\n",
    "    \n",
    "    randomNumberToRemove = randint(1, min(tokenPile, 3))\n",
    "    \n",
    "    newPile = tokenPile - randomNumberToRemove\n",
    "    \n",
    "    print(\"The token pile chosen is {}, \\n I remove {} tokens from the pile!. \\n The remaining token is: {}\".format(\"*\" * tokenPile, randomNumberToRemove, newPile))\n",
    "    \n",
    "except ValueError:\n",
    "    \n",
    "    print(\"Error: The value entered is incorrect\")\n",
    "    \n",
    "    "
   ]
  },
  {
   "cell_type": "markdown",
   "id": "c669d4ff-81fc-464c-9a23-028246ab63ef",
   "metadata": {},
   "source": [
    "ANOTHER RANDOM METHOD"
   ]
  },
  {
   "cell_type": "code",
   "execution_count": 26,
   "id": "0a8cf5b6-c570-465f-8afa-a59868a7ec52",
   "metadata": {
    "tags": []
   },
   "outputs": [
    {
     "name": "stdin",
     "output_type": "stream",
     "text": [
      "How many tokens would you like in the pile? 20\n"
     ]
    },
    {
     "name": "stdout",
     "output_type": "stream",
     "text": [
      "token pile: ********************\n",
      "I remove 5 tokens from the pile!\n",
      "token pile: ***************\n"
     ]
    },
    {
     "name": "stdin",
     "output_type": "stream",
     "text": [
      "How many tokens do you want to remove? 2\n"
     ]
    },
    {
     "name": "stdout",
     "output_type": "stream",
     "text": [
      "token pile: *************\n",
      "I remove 5 tokens from the pile!\n",
      "token pile: ********\n"
     ]
    },
    {
     "name": "stdin",
     "output_type": "stream",
     "text": [
      "How many tokens do you want to remove? 3\n"
     ]
    },
    {
     "name": "stdout",
     "output_type": "stream",
     "text": [
      "token pile: *****\n",
      "I remove 1 tokens from the pile!\n",
      "token pile: ****\n"
     ]
    },
    {
     "name": "stdin",
     "output_type": "stream",
     "text": [
      "How many tokens do you want to remove? 1\n"
     ]
    },
    {
     "name": "stdout",
     "output_type": "stream",
     "text": [
      "token pile: ***\n",
      "I remove 3 tokens from the pile!\n",
      "token pile: \n",
      "Game over! You win!\n"
     ]
    }
   ],
   "source": [
    "try:\n",
    "    def print_token_pile(tokens):\n",
    "        \n",
    "        print(\"token pile:\", \"*\" * tokens)\n",
    "    \n",
    "    def nim_game():\n",
    "        \n",
    "        tokens_in_pile = int(input(\"How many tokens would you like in the pile?\"))\n",
    "        \n",
    "        #print the initial token pile\n",
    "        \n",
    "        print_token_pile(tokens_in_pile)\n",
    "        \n",
    "        \n",
    "        while tokens_in_pile > 0:\n",
    "            \n",
    "            #Randomly choose a number of tokens to remove from the pile\n",
    "            \n",
    "            tokens_to_remove = randint(1, min(tokens_in_pile, 5))\n",
    "            \n",
    "            tokens_in_pile = tokens_in_pile - tokens_to_remove\n",
    "            \n",
    "            print(\"I remove {} tokens from the pile!\".format(tokens_to_remove))\n",
    "            \n",
    "            print_token_pile(tokens_in_pile)\n",
    "            \n",
    "            #To chechk if the game is over\n",
    "            \n",
    "            if tokens_in_pile == 0:\n",
    "                \n",
    "                print(\"Game over! You win!\")\n",
    "                \n",
    "            else:\n",
    "                \n",
    "                user_tokens = int(input(\"How many tokens do you want to remove?\"))\n",
    "                \n",
    "                tokens_in_pile = tokens_in_pile - user_tokens\n",
    "                \n",
    "                print_token_pile(tokens_in_pile)\n",
    "                \n",
    "                #To check if the game is over\n",
    "                \n",
    "                if tokens_in_pile == 0:\n",
    "                    \n",
    "                    print(\"Game over! The computer wins!\")\n",
    "    if __name__ == \"__main__\":\n",
    "        \n",
    "        nim_game()\n",
    "        \n",
    "except ValueError:\n",
    "    \n",
    "    print(\"Error: Not a valid entry!\")\n",
    "    "
   ]
  },
  {
   "cell_type": "code",
   "execution_count": null,
   "id": "35f97085-e2de-498d-acb5-d68ef86172ab",
   "metadata": {},
   "outputs": [],
   "source": [
    "_"
   ]
  }
 ],
 "metadata": {
  "kernelspec": {
   "display_name": "Python 3 (ipykernel)",
   "language": "python",
   "name": "python3"
  },
  "language_info": {
   "codemirror_mode": {
    "name": "ipython",
    "version": 3
   },
   "file_extension": ".py",
   "mimetype": "text/x-python",
   "name": "python",
   "nbconvert_exporter": "python",
   "pygments_lexer": "ipython3",
   "version": "3.11.4"
  }
 },
 "nbformat": 4,
 "nbformat_minor": 5
}
